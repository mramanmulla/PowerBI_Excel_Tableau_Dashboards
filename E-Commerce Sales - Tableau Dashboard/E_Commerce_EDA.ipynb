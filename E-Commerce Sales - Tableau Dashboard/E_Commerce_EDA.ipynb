{
  "nbformat": 4,
  "nbformat_minor": 0,
  "metadata": {
    "colab": {
      "provenance": []
    },
    "kernelspec": {
      "name": "python3",
      "display_name": "Python 3"
    },
    "language_info": {
      "name": "python"
    }
  },
  "cells": [
    {
      "cell_type": "code",
      "execution_count": 2,
      "metadata": {
        "id": "uww81LtZni6C"
      },
      "outputs": [],
      "source": [
        "import pandas as pd\n",
        "import numpy as np"
      ]
    },
    {
      "cell_type": "code",
      "source": [
        "# reading Dataset\n",
        "\n",
        "amazon_df = pd.read_csv('/content/drive/MyDrive/DataSets/Amazon Sale Report.csv')\n",
        "\n",
        "amazon_df\n",
        "\n",
        "# Checkout head of Dataset\n",
        "\n",
        "amazon_df.head()\n",
        "\n",
        "# Checkout info of Dataset. will check for datatype and count of each column\n",
        "\n",
        "amazon_df.info()\n",
        "\n",
        "# Will check and drop for unwanted column, which will not affect to dataset and will not usefull in visvalization\n",
        "\n",
        "amazon_df.drop(['Unnamed: 22'],inplace=True,axis=1)\n",
        "amazon_df.drop(['promotion-ids'],inplace=True,axis=1)\n",
        "amazon_df.drop(['SKU'],inplace=True,axis=1)\n",
        "amazon_df.drop(['ASIN'],inplace=True,axis=1)\n",
        "amazon_df.drop(['index'],inplace=True,axis=1)\n",
        "\n",
        "# Above column droped from dataset. Will check for NaN counts for each column.\n",
        "\n",
        "amazon_df.isna().sum()\n",
        "\n",
        "# 1st for column = 'fulfilled-by', will fill values using ffill mathod and remaing will fill with 'Normal-Delivery'\n",
        "\n",
        "amazon_df['fulfilled-by'].fillna(method = 'ffill',limit=1,inplace = True)\n",
        "\n",
        "amazon_df['fulfilled-by'].fillna('Normal-Delivery',inplace = True)\n",
        "\n",
        "# will check for NaN counts\n",
        "\n",
        "amazon_df.isna().sum()\n",
        "\n",
        "# 2nd for column = 'Currency'. as all data of INDIA only hence currecy for all will be 'INR', So filling with 'INR'\n",
        "\n",
        "amazon_df['currency'].fillna('INR',inplace = True)\n",
        "\n",
        "# will check for NaN counts\n",
        "\n",
        "amazon_df.isna().sum()\n",
        "\n",
        "# 3rd for columns = 'ship-city','ship-state','ship-postal-code','ship-country'. This column having less NaN so insted of deleting will fill with ffill method\n",
        "\n",
        "column_fill_na = ['ship-city','ship-state','ship-postal-code','ship-country']\n",
        "\n",
        "column_fill_na\n",
        "\n",
        "amazon_df[column_fill_na] = amazon_df[column_fill_na].fillna(method='ffill')\n",
        "\n",
        "# will check for NaN counts\n",
        "\n",
        "amazon_df.isna().sum()\n",
        "\n",
        "# 4th for column = 'courier-status'. This column cant be fill with any of method or it will change mean of detaset. will drop NaNs\n",
        "\n",
        "amazon_df.dropna(subset =['Courier Status'],inplace= True)\n",
        "\n",
        "# 5th for column = 'Amount'. This column cant be fill with any of method or it will change mean of detaset. will drop NaNs\n",
        "\n",
        "amazon_df.dropna(subset =['Amount'],inplace= True)\n",
        "\n",
        "# Done will all NaNs, Will check for final dataset info and shape of dataset\n",
        "\n",
        "amazon_df.info()\n",
        "amazon_df.shape\n",
        "\n",
        "# will export cleaned fill and use it for visulization using tableau.\n",
        "amazon_df.to_csv('Cleaned.CSV')"
      ],
      "metadata": {
        "id": "zwsCAv1K4nkw"
      },
      "execution_count": null,
      "outputs": []
    },
    {
      "cell_type": "code",
      "source": [
        "amazon_df.shape"
      ],
      "metadata": {
        "colab": {
          "base_uri": "https://localhost:8080/"
        },
        "id": "hBw7VGLv9zRJ",
        "outputId": "ee905a61-7dec-4557-deda-b574ca447052"
      },
      "execution_count": 6,
      "outputs": [
        {
          "output_type": "execute_result",
          "data": {
            "text/plain": [
              "(116044, 19)"
            ]
          },
          "metadata": {},
          "execution_count": 6
        }
      ]
    },
    {
      "cell_type": "code",
      "source": [],
      "metadata": {
        "id": "inMDvTR94GxE"
      },
      "execution_count": 5,
      "outputs": []
    },
    {
      "cell_type": "code",
      "source": [],
      "metadata": {
        "id": "TSivefZo845R"
      },
      "execution_count": null,
      "outputs": []
    },
    {
      "cell_type": "markdown",
      "source": [
        "# New Section"
      ],
      "metadata": {
        "id": "s8b5S6kZ88fv"
      }
    }
  ]
}