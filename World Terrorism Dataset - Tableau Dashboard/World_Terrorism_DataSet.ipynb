{
  "nbformat": 4,
  "nbformat_minor": 0,
  "metadata": {
    "colab": {
      "provenance": []
    },
    "kernelspec": {
      "name": "python3",
      "display_name": "Python 3"
    },
    "language_info": {
      "name": "python"
    }
  },
  "cells": [
    {
      "cell_type": "code",
      "source": [
        "import pandas as pd\n",
        "\n",
        "# Will Load Data\n",
        "\n",
        "WTD_df = pd.read_csv('/content/terrorism.csv')\n",
        "\n",
        "WTD_df.head()\n",
        "\n",
        "# will check for shape and info of data\n",
        "\n",
        "WTD_df.info()\n",
        "\n",
        "WTD_df.shape\n",
        "\n",
        "# First will drop unwanted column which are not useful to do visulizaion\n",
        "\n",
        "WTD_df.drop(['Unnamed: 0'],inplace=True,axis=1)\n",
        "WTD_df.drop(['motive'],inplace=True,axis=1)\n",
        "WTD_df.drop(['property_extent_damaged'],inplace=True,axis=1)\n",
        "WTD_df.drop(['property_value'],inplace=True,axis=1)\n",
        "WTD_df.drop(['location'],inplace=True,axis=1)\n",
        "\n",
        "# its found that 'evenid' is column which having value in scientific numerical type and it contain some column with string. idealy this column should not contain any string value\n",
        "# So will find indexes with string value and drop it\n",
        "\n",
        "non_numeric_indices = WTD_df[pd.to_numeric(WTD_df['eventid'],errors = 'coerce').isna()].index\n",
        "\n",
        "WTD_df.drop(non_numeric_indices, inplace=True)\n",
        "\n",
        "# Now will convert scientific numerical type into simple numbers\n",
        "\n",
        "WTD_df['eventid'] = WTD_df['eventid'].apply(lambda x: float(x))\n",
        "WTD_df['eventid'] = WTD_df['eventid'].apply(lambda y: '{:.0f}'.format(y))\n",
        "\n",
        "WTD_df.head()\n",
        "\n",
        "# Now Will check for NaNs in dataset'\n",
        "WTD_df.isna().sum()\n",
        "\n",
        "# So many NaNs in dataset, As this dataset is like real so we just cnt use ffill or fill na to fill NaNa, it may change meaning of dataset.\n",
        "# will fill some of column with 'unknown', as some column having NaNs with high number it drop will not left good data.\n",
        "\n",
        "WTD_df['sub_weapon_type'].fillna('Unknown Data',inplace = True)\n",
        "WTD_df['number_of_kills'].fillna('Unknown Data',inplace = True)\n",
        "WTD_df['number_of_wounded'].fillna('Unknown Data',inplace = True)\n",
        "\n",
        "# Now will drop remaining NaNs as its not left in high numbers, so it does not affects to dataset.\n",
        "\n",
        "WTD_df.dropna(inplace=True)\n",
        "\n",
        "\n",
        "# Check shape of dataset\n",
        "\n",
        "WTD_df.shape\n",
        "\n",
        "# will export cleaned fill and use it for visulization using tableau.\n",
        "\n",
        "WTD_df.to_excel('WTDCleanedData.xlsx')\n"
      ],
      "metadata": {
        "colab": {
          "base_uri": "https://localhost:8080/"
        },
        "id": "k2z7rYwcyIWT",
        "outputId": "e778d28d-145d-44b2-f817-74c9b0a936ac"
      },
      "execution_count": null,
      "outputs": [
        {
          "output_type": "stream",
          "name": "stderr",
          "text": [
            "<ipython-input-9-695f12faa384>:5: DtypeWarning: Columns (1,2,3,4,10,11,19,20,21,23) have mixed types. Specify dtype option on import or set low_memory=False.\n",
            "  WTD_df = pd.read_csv('/content/terrorism.csv')\n"
          ]
        },
        {
          "output_type": "stream",
          "name": "stdout",
          "text": [
            "<class 'pandas.core.frame.DataFrame'>\n",
            "RangeIndex: 83467 entries, 0 to 83466\n",
            "Data columns (total 24 columns):\n",
            " #   Column                   Non-Null Count  Dtype \n",
            "---  ------                   --------------  ----- \n",
            " 0   Unnamed: 0               83467 non-null  int64 \n",
            " 1   eventid                  83453 non-null  object\n",
            " 2   year                     83330 non-null  object\n",
            " 3   month                    83313 non-null  object\n",
            " 4   day                      83294 non-null  object\n",
            " 5   country                  83285 non-null  object\n",
            " 6   region                   83293 non-null  object\n",
            " 7   state                    83111 non-null  object\n",
            " 8   city                     83032 non-null  object\n",
            " 9   location                 28531 non-null  object\n",
            " 10  succesful_attack         83270 non-null  object\n",
            " 11  suicide_attack           83269 non-null  object\n",
            " 12  attack_type              83266 non-null  object\n",
            " 13  target_type              83266 non-null  object\n",
            " 14  nationality_targeted     82482 non-null  object\n",
            " 15  attackers                83274 non-null  object\n",
            " 16  motive                   27392 non-null  object\n",
            " 17  weapon_type              83259 non-null  object\n",
            " 18  sub_weapon_type          74606 non-null  object\n",
            " 19  number_of_kills          79589 non-null  object\n",
            " 20  number_of_wounded        77070 non-null  object\n",
            " 21  proprty_damaged          83261 non-null  object\n",
            " 22  property_extent_damaged  30240 non-null  object\n",
            " 23  property_value           19047 non-null  object\n",
            "dtypes: int64(1), object(23)\n",
            "memory usage: 15.3+ MB\n"
          ]
        }
      ]
    }
  ]
}