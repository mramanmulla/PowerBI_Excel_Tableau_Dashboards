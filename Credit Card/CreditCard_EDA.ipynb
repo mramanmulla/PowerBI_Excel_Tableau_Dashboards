{
  "nbformat": 4,
  "nbformat_minor": 0,
  "metadata": {
    "colab": {
      "provenance": []
    },
    "kernelspec": {
      "name": "python3",
      "display_name": "Python 3"
    },
    "language_info": {
      "name": "python"
    }
  },
  "cells": [
    {
      "cell_type": "code",
      "execution_count": 1,
      "metadata": {
        "id": "Cl0jkvtIVO_s"
      },
      "outputs": [],
      "source": [
        "import pandas as pd\n",
        "import numpy as np"
      ]
    },
    {
      "cell_type": "code",
      "source": [
        "credit_df = pd.read_excel('/content/Credit Card Dashboard.xlsx')\n",
        "\n",
        "credit_df.head(10)"
      ],
      "metadata": {
        "colab": {
          "base_uri": "https://localhost:8080/",
          "height": 898
        },
        "id": "zyJWOo-vThNu",
        "outputId": "ad4268f5-9702-4fb2-a8c0-3d4c5c137dcc"
      },
      "execution_count": 2,
      "outputs": [
        {
          "output_type": "execute_result",
          "data": {
            "text/plain": [
              "                            Company Company public response  \\\n",
              "0               Synchrony Financial                     NaN   \n",
              "1              JPMorgan Chase & Co.                     NaN   \n",
              "2            Sterling Jewelers Inc.                     NaN   \n",
              "3                          Citibank                     NaN   \n",
              "4                          Discover                     NaN   \n",
              "5        TD Bank US Holding Company                     NaN   \n",
              "6                   Bank of America                     NaN   \n",
              "7              JPMorgan Chase & Co.                     NaN   \n",
              "8  HSBC North America Holdings Inc.                     NaN   \n",
              "9                          Citibank                     NaN   \n",
              "\n",
              "      Company response to consumer         Complaint Category   Complaint ID  \\\n",
              "0  Closed with non-monetary relief            Billing disputes       1118322   \n",
              "1          Closed with explanation  Closing/Cancelling account       1111301   \n",
              "2          Closed with explanation                  Bankruptcy       1118893   \n",
              "3          Closed with explanation            Billing disputes       1097558   \n",
              "4          Closed with explanation            Billing disputes       1106302   \n",
              "5      Closed with monetary relief          Delinquent account       1118818   \n",
              "6  Closed with non-monetary relief   Advertising and marketing       1111396   \n",
              "7          Closed with explanation          Delinquent account       1118698   \n",
              "8          Closed with explanation            Billing disputes       1118872   \n",
              "9          Closed with explanation                 Arbitration       1119008   \n",
              "\n",
              "  Consumer complaint narrative Consumer consent provided?  \\\n",
              "0                          NaN                        NaN   \n",
              "1                          NaN                        NaN   \n",
              "2                          NaN                        NaN   \n",
              "3                          NaN                        NaN   \n",
              "4                          NaN                        NaN   \n",
              "5                          NaN                        NaN   \n",
              "6                          NaN                        NaN   \n",
              "7                          NaN                        NaN   \n",
              "8                          NaN                        NaN   \n",
              "9                          NaN                        NaN   \n",
              "\n",
              "  Consumer consent provided? (group) Consumer disputed? Date received  ...  \\\n",
              "0                Other Includes Null                 No    2018-11-15  ...   \n",
              "1                Other Includes Null                 No    2018-11-11  ...   \n",
              "2                Other Includes Null                Yes    2018-11-16  ...   \n",
              "3                Other Includes Null                Yes    2018-11-02  ...   \n",
              "4                Other Includes Null                 No    2018-11-06  ...   \n",
              "5                Other Includes Null                 No    2018-11-16  ...   \n",
              "6                Other Includes Null                 No    2018-11-11  ...   \n",
              "7                Other Includes Null                Yes    2018-11-16  ...   \n",
              "8                Other Includes Null                 No    2018-11-16  ...   \n",
              "9                Other Includes Null                 No    2018-11-17  ...   \n",
              "\n",
              "  Sub-issue Sub-product Submitted via                  Table Name  \\\n",
              "0       NaN         NaN           Web  Credit_Card_Complaints.csv   \n",
              "1       NaN         NaN           Web  Credit_Card_Complaints.csv   \n",
              "2       NaN         NaN           Web  Credit_Card_Complaints.csv   \n",
              "3       NaN         NaN           Web  Credit_Card_Complaints.csv   \n",
              "4       NaN         NaN           Web  Credit_Card_Complaints.csv   \n",
              "5       NaN         NaN           Web  Credit_Card_Complaints.csv   \n",
              "6       NaN         NaN           Web  Credit_Card_Complaints.csv   \n",
              "7       NaN         NaN           Web  Credit_Card_Complaints.csv   \n",
              "8       NaN         NaN           Web  Credit_Card_Complaints.csv   \n",
              "9       NaN         NaN           Web  Credit_Card_Complaints.csv   \n",
              "\n",
              "             Tags  Timely response?  ZIP code Avg No of days  donut  \\\n",
              "0  Older American               Yes   30024.0               0     0   \n",
              "1             NaN               Yes    6606.0               0     0   \n",
              "2             NaN               Yes   54935.0               0     0   \n",
              "3             NaN               Yes    5150.0               0     0   \n",
              "4             NaN               Yes   60646.0               0     0   \n",
              "5             NaN               Yes   92024.0               0     0   \n",
              "6             NaN               Yes   23112.0               0     0   \n",
              "7             NaN               Yes   75007.0               2     0   \n",
              "8             NaN               Yes   20036.0               4     0   \n",
              "9  Older American               Yes   60649.0               0     0   \n",
              "\n",
              "  Number of Records  \n",
              "0                 1  \n",
              "1                 1  \n",
              "2                 1  \n",
              "3                 1  \n",
              "4                 1  \n",
              "5                 1  \n",
              "6                 1  \n",
              "7                 1  \n",
              "8                 1  \n",
              "9                 1  \n",
              "\n",
              "[10 rows x 25 columns]"
            ],
            "text/html": [
              "\n",
              "  <div id=\"df-366f3d0b-2701-404e-a8aa-a721592d7962\" class=\"colab-df-container\">\n",
              "    <div>\n",
              "<style scoped>\n",
              "    .dataframe tbody tr th:only-of-type {\n",
              "        vertical-align: middle;\n",
              "    }\n",
              "\n",
              "    .dataframe tbody tr th {\n",
              "        vertical-align: top;\n",
              "    }\n",
              "\n",
              "    .dataframe thead th {\n",
              "        text-align: right;\n",
              "    }\n",
              "</style>\n",
              "<table border=\"1\" class=\"dataframe\">\n",
              "  <thead>\n",
              "    <tr style=\"text-align: right;\">\n",
              "      <th></th>\n",
              "      <th>Company</th>\n",
              "      <th>Company public response</th>\n",
              "      <th>Company response to consumer</th>\n",
              "      <th>Complaint Category</th>\n",
              "      <th>Complaint ID</th>\n",
              "      <th>Consumer complaint narrative</th>\n",
              "      <th>Consumer consent provided?</th>\n",
              "      <th>Consumer consent provided? (group)</th>\n",
              "      <th>Consumer disputed?</th>\n",
              "      <th>Date received</th>\n",
              "      <th>...</th>\n",
              "      <th>Sub-issue</th>\n",
              "      <th>Sub-product</th>\n",
              "      <th>Submitted via</th>\n",
              "      <th>Table Name</th>\n",
              "      <th>Tags</th>\n",
              "      <th>Timely response?</th>\n",
              "      <th>ZIP code</th>\n",
              "      <th>Avg No of days</th>\n",
              "      <th>donut</th>\n",
              "      <th>Number of Records</th>\n",
              "    </tr>\n",
              "  </thead>\n",
              "  <tbody>\n",
              "    <tr>\n",
              "      <th>0</th>\n",
              "      <td>Synchrony Financial</td>\n",
              "      <td>NaN</td>\n",
              "      <td>Closed with non-monetary relief</td>\n",
              "      <td>Billing disputes</td>\n",
              "      <td>1118322</td>\n",
              "      <td>NaN</td>\n",
              "      <td>NaN</td>\n",
              "      <td>Other Includes Null</td>\n",
              "      <td>No</td>\n",
              "      <td>2018-11-15</td>\n",
              "      <td>...</td>\n",
              "      <td>NaN</td>\n",
              "      <td>NaN</td>\n",
              "      <td>Web</td>\n",
              "      <td>Credit_Card_Complaints.csv</td>\n",
              "      <td>Older American</td>\n",
              "      <td>Yes</td>\n",
              "      <td>30024.0</td>\n",
              "      <td>0</td>\n",
              "      <td>0</td>\n",
              "      <td>1</td>\n",
              "    </tr>\n",
              "    <tr>\n",
              "      <th>1</th>\n",
              "      <td>JPMorgan Chase &amp; Co.</td>\n",
              "      <td>NaN</td>\n",
              "      <td>Closed with explanation</td>\n",
              "      <td>Closing/Cancelling account</td>\n",
              "      <td>1111301</td>\n",
              "      <td>NaN</td>\n",
              "      <td>NaN</td>\n",
              "      <td>Other Includes Null</td>\n",
              "      <td>No</td>\n",
              "      <td>2018-11-11</td>\n",
              "      <td>...</td>\n",
              "      <td>NaN</td>\n",
              "      <td>NaN</td>\n",
              "      <td>Web</td>\n",
              "      <td>Credit_Card_Complaints.csv</td>\n",
              "      <td>NaN</td>\n",
              "      <td>Yes</td>\n",
              "      <td>6606.0</td>\n",
              "      <td>0</td>\n",
              "      <td>0</td>\n",
              "      <td>1</td>\n",
              "    </tr>\n",
              "    <tr>\n",
              "      <th>2</th>\n",
              "      <td>Sterling Jewelers Inc.</td>\n",
              "      <td>NaN</td>\n",
              "      <td>Closed with explanation</td>\n",
              "      <td>Bankruptcy</td>\n",
              "      <td>1118893</td>\n",
              "      <td>NaN</td>\n",
              "      <td>NaN</td>\n",
              "      <td>Other Includes Null</td>\n",
              "      <td>Yes</td>\n",
              "      <td>2018-11-16</td>\n",
              "      <td>...</td>\n",
              "      <td>NaN</td>\n",
              "      <td>NaN</td>\n",
              "      <td>Web</td>\n",
              "      <td>Credit_Card_Complaints.csv</td>\n",
              "      <td>NaN</td>\n",
              "      <td>Yes</td>\n",
              "      <td>54935.0</td>\n",
              "      <td>0</td>\n",
              "      <td>0</td>\n",
              "      <td>1</td>\n",
              "    </tr>\n",
              "    <tr>\n",
              "      <th>3</th>\n",
              "      <td>Citibank</td>\n",
              "      <td>NaN</td>\n",
              "      <td>Closed with explanation</td>\n",
              "      <td>Billing disputes</td>\n",
              "      <td>1097558</td>\n",
              "      <td>NaN</td>\n",
              "      <td>NaN</td>\n",
              "      <td>Other Includes Null</td>\n",
              "      <td>Yes</td>\n",
              "      <td>2018-11-02</td>\n",
              "      <td>...</td>\n",
              "      <td>NaN</td>\n",
              "      <td>NaN</td>\n",
              "      <td>Web</td>\n",
              "      <td>Credit_Card_Complaints.csv</td>\n",
              "      <td>NaN</td>\n",
              "      <td>Yes</td>\n",
              "      <td>5150.0</td>\n",
              "      <td>0</td>\n",
              "      <td>0</td>\n",
              "      <td>1</td>\n",
              "    </tr>\n",
              "    <tr>\n",
              "      <th>4</th>\n",
              "      <td>Discover</td>\n",
              "      <td>NaN</td>\n",
              "      <td>Closed with explanation</td>\n",
              "      <td>Billing disputes</td>\n",
              "      <td>1106302</td>\n",
              "      <td>NaN</td>\n",
              "      <td>NaN</td>\n",
              "      <td>Other Includes Null</td>\n",
              "      <td>No</td>\n",
              "      <td>2018-11-06</td>\n",
              "      <td>...</td>\n",
              "      <td>NaN</td>\n",
              "      <td>NaN</td>\n",
              "      <td>Web</td>\n",
              "      <td>Credit_Card_Complaints.csv</td>\n",
              "      <td>NaN</td>\n",
              "      <td>Yes</td>\n",
              "      <td>60646.0</td>\n",
              "      <td>0</td>\n",
              "      <td>0</td>\n",
              "      <td>1</td>\n",
              "    </tr>\n",
              "    <tr>\n",
              "      <th>5</th>\n",
              "      <td>TD Bank US Holding Company</td>\n",
              "      <td>NaN</td>\n",
              "      <td>Closed with monetary relief</td>\n",
              "      <td>Delinquent account</td>\n",
              "      <td>1118818</td>\n",
              "      <td>NaN</td>\n",
              "      <td>NaN</td>\n",
              "      <td>Other Includes Null</td>\n",
              "      <td>No</td>\n",
              "      <td>2018-11-16</td>\n",
              "      <td>...</td>\n",
              "      <td>NaN</td>\n",
              "      <td>NaN</td>\n",
              "      <td>Web</td>\n",
              "      <td>Credit_Card_Complaints.csv</td>\n",
              "      <td>NaN</td>\n",
              "      <td>Yes</td>\n",
              "      <td>92024.0</td>\n",
              "      <td>0</td>\n",
              "      <td>0</td>\n",
              "      <td>1</td>\n",
              "    </tr>\n",
              "    <tr>\n",
              "      <th>6</th>\n",
              "      <td>Bank of America</td>\n",
              "      <td>NaN</td>\n",
              "      <td>Closed with non-monetary relief</td>\n",
              "      <td>Advertising and marketing</td>\n",
              "      <td>1111396</td>\n",
              "      <td>NaN</td>\n",
              "      <td>NaN</td>\n",
              "      <td>Other Includes Null</td>\n",
              "      <td>No</td>\n",
              "      <td>2018-11-11</td>\n",
              "      <td>...</td>\n",
              "      <td>NaN</td>\n",
              "      <td>NaN</td>\n",
              "      <td>Web</td>\n",
              "      <td>Credit_Card_Complaints.csv</td>\n",
              "      <td>NaN</td>\n",
              "      <td>Yes</td>\n",
              "      <td>23112.0</td>\n",
              "      <td>0</td>\n",
              "      <td>0</td>\n",
              "      <td>1</td>\n",
              "    </tr>\n",
              "    <tr>\n",
              "      <th>7</th>\n",
              "      <td>JPMorgan Chase &amp; Co.</td>\n",
              "      <td>NaN</td>\n",
              "      <td>Closed with explanation</td>\n",
              "      <td>Delinquent account</td>\n",
              "      <td>1118698</td>\n",
              "      <td>NaN</td>\n",
              "      <td>NaN</td>\n",
              "      <td>Other Includes Null</td>\n",
              "      <td>Yes</td>\n",
              "      <td>2018-11-16</td>\n",
              "      <td>...</td>\n",
              "      <td>NaN</td>\n",
              "      <td>NaN</td>\n",
              "      <td>Web</td>\n",
              "      <td>Credit_Card_Complaints.csv</td>\n",
              "      <td>NaN</td>\n",
              "      <td>Yes</td>\n",
              "      <td>75007.0</td>\n",
              "      <td>2</td>\n",
              "      <td>0</td>\n",
              "      <td>1</td>\n",
              "    </tr>\n",
              "    <tr>\n",
              "      <th>8</th>\n",
              "      <td>HSBC North America Holdings Inc.</td>\n",
              "      <td>NaN</td>\n",
              "      <td>Closed with explanation</td>\n",
              "      <td>Billing disputes</td>\n",
              "      <td>1118872</td>\n",
              "      <td>NaN</td>\n",
              "      <td>NaN</td>\n",
              "      <td>Other Includes Null</td>\n",
              "      <td>No</td>\n",
              "      <td>2018-11-16</td>\n",
              "      <td>...</td>\n",
              "      <td>NaN</td>\n",
              "      <td>NaN</td>\n",
              "      <td>Web</td>\n",
              "      <td>Credit_Card_Complaints.csv</td>\n",
              "      <td>NaN</td>\n",
              "      <td>Yes</td>\n",
              "      <td>20036.0</td>\n",
              "      <td>4</td>\n",
              "      <td>0</td>\n",
              "      <td>1</td>\n",
              "    </tr>\n",
              "    <tr>\n",
              "      <th>9</th>\n",
              "      <td>Citibank</td>\n",
              "      <td>NaN</td>\n",
              "      <td>Closed with explanation</td>\n",
              "      <td>Arbitration</td>\n",
              "      <td>1119008</td>\n",
              "      <td>NaN</td>\n",
              "      <td>NaN</td>\n",
              "      <td>Other Includes Null</td>\n",
              "      <td>No</td>\n",
              "      <td>2018-11-17</td>\n",
              "      <td>...</td>\n",
              "      <td>NaN</td>\n",
              "      <td>NaN</td>\n",
              "      <td>Web</td>\n",
              "      <td>Credit_Card_Complaints.csv</td>\n",
              "      <td>Older American</td>\n",
              "      <td>Yes</td>\n",
              "      <td>60649.0</td>\n",
              "      <td>0</td>\n",
              "      <td>0</td>\n",
              "      <td>1</td>\n",
              "    </tr>\n",
              "  </tbody>\n",
              "</table>\n",
              "<p>10 rows × 25 columns</p>\n",
              "</div>\n",
              "    <div class=\"colab-df-buttons\">\n",
              "\n",
              "  <div class=\"colab-df-container\">\n",
              "    <button class=\"colab-df-convert\" onclick=\"convertToInteractive('df-366f3d0b-2701-404e-a8aa-a721592d7962')\"\n",
              "            title=\"Convert this dataframe to an interactive table.\"\n",
              "            style=\"display:none;\">\n",
              "\n",
              "  <svg xmlns=\"http://www.w3.org/2000/svg\" height=\"24px\" viewBox=\"0 -960 960 960\">\n",
              "    <path d=\"M120-120v-720h720v720H120Zm60-500h600v-160H180v160Zm220 220h160v-160H400v160Zm0 220h160v-160H400v160ZM180-400h160v-160H180v160Zm440 0h160v-160H620v160ZM180-180h160v-160H180v160Zm440 0h160v-160H620v160Z\"/>\n",
              "  </svg>\n",
              "    </button>\n",
              "\n",
              "  <style>\n",
              "    .colab-df-container {\n",
              "      display:flex;\n",
              "      gap: 12px;\n",
              "    }\n",
              "\n",
              "    .colab-df-convert {\n",
              "      background-color: #E8F0FE;\n",
              "      border: none;\n",
              "      border-radius: 50%;\n",
              "      cursor: pointer;\n",
              "      display: none;\n",
              "      fill: #1967D2;\n",
              "      height: 32px;\n",
              "      padding: 0 0 0 0;\n",
              "      width: 32px;\n",
              "    }\n",
              "\n",
              "    .colab-df-convert:hover {\n",
              "      background-color: #E2EBFA;\n",
              "      box-shadow: 0px 1px 2px rgba(60, 64, 67, 0.3), 0px 1px 3px 1px rgba(60, 64, 67, 0.15);\n",
              "      fill: #174EA6;\n",
              "    }\n",
              "\n",
              "    .colab-df-buttons div {\n",
              "      margin-bottom: 4px;\n",
              "    }\n",
              "\n",
              "    [theme=dark] .colab-df-convert {\n",
              "      background-color: #3B4455;\n",
              "      fill: #D2E3FC;\n",
              "    }\n",
              "\n",
              "    [theme=dark] .colab-df-convert:hover {\n",
              "      background-color: #434B5C;\n",
              "      box-shadow: 0px 1px 3px 1px rgba(0, 0, 0, 0.15);\n",
              "      filter: drop-shadow(0px 1px 2px rgba(0, 0, 0, 0.3));\n",
              "      fill: #FFFFFF;\n",
              "    }\n",
              "  </style>\n",
              "\n",
              "    <script>\n",
              "      const buttonEl =\n",
              "        document.querySelector('#df-366f3d0b-2701-404e-a8aa-a721592d7962 button.colab-df-convert');\n",
              "      buttonEl.style.display =\n",
              "        google.colab.kernel.accessAllowed ? 'block' : 'none';\n",
              "\n",
              "      async function convertToInteractive(key) {\n",
              "        const element = document.querySelector('#df-366f3d0b-2701-404e-a8aa-a721592d7962');\n",
              "        const dataTable =\n",
              "          await google.colab.kernel.invokeFunction('convertToInteractive',\n",
              "                                                    [key], {});\n",
              "        if (!dataTable) return;\n",
              "\n",
              "        const docLinkHtml = 'Like what you see? Visit the ' +\n",
              "          '<a target=\"_blank\" href=https://colab.research.google.com/notebooks/data_table.ipynb>data table notebook</a>'\n",
              "          + ' to learn more about interactive tables.';\n",
              "        element.innerHTML = '';\n",
              "        dataTable['output_type'] = 'display_data';\n",
              "        await google.colab.output.renderOutput(dataTable, element);\n",
              "        const docLink = document.createElement('div');\n",
              "        docLink.innerHTML = docLinkHtml;\n",
              "        element.appendChild(docLink);\n",
              "      }\n",
              "    </script>\n",
              "  </div>\n",
              "\n",
              "\n",
              "<div id=\"df-4dcb6fd3-800a-469e-b1c3-82c1bdebc003\">\n",
              "  <button class=\"colab-df-quickchart\" onclick=\"quickchart('df-4dcb6fd3-800a-469e-b1c3-82c1bdebc003')\"\n",
              "            title=\"Suggest charts.\"\n",
              "            style=\"display:none;\">\n",
              "\n",
              "<svg xmlns=\"http://www.w3.org/2000/svg\" height=\"24px\"viewBox=\"0 0 24 24\"\n",
              "     width=\"24px\">\n",
              "    <g>\n",
              "        <path d=\"M19 3H5c-1.1 0-2 .9-2 2v14c0 1.1.9 2 2 2h14c1.1 0 2-.9 2-2V5c0-1.1-.9-2-2-2zM9 17H7v-7h2v7zm4 0h-2V7h2v10zm4 0h-2v-4h2v4z\"/>\n",
              "    </g>\n",
              "</svg>\n",
              "  </button>\n",
              "\n",
              "<style>\n",
              "  .colab-df-quickchart {\n",
              "    background-color: #E8F0FE;\n",
              "    border: none;\n",
              "    border-radius: 50%;\n",
              "    cursor: pointer;\n",
              "    display: none;\n",
              "    fill: #1967D2;\n",
              "    height: 32px;\n",
              "    padding: 0 0 0 0;\n",
              "    width: 32px;\n",
              "  }\n",
              "\n",
              "  .colab-df-quickchart:hover {\n",
              "    background-color: #E2EBFA;\n",
              "    box-shadow: 0px 1px 2px rgba(60, 64, 67, 0.3), 0px 1px 3px 1px rgba(60, 64, 67, 0.15);\n",
              "    fill: #174EA6;\n",
              "  }\n",
              "\n",
              "  [theme=dark] .colab-df-quickchart {\n",
              "    background-color: #3B4455;\n",
              "    fill: #D2E3FC;\n",
              "  }\n",
              "\n",
              "  [theme=dark] .colab-df-quickchart:hover {\n",
              "    background-color: #434B5C;\n",
              "    box-shadow: 0px 1px 3px 1px rgba(0, 0, 0, 0.15);\n",
              "    filter: drop-shadow(0px 1px 2px rgba(0, 0, 0, 0.3));\n",
              "    fill: #FFFFFF;\n",
              "  }\n",
              "</style>\n",
              "\n",
              "  <script>\n",
              "    async function quickchart(key) {\n",
              "      const charts = await google.colab.kernel.invokeFunction(\n",
              "          'suggestCharts', [key], {});\n",
              "    }\n",
              "    (() => {\n",
              "      let quickchartButtonEl =\n",
              "        document.querySelector('#df-4dcb6fd3-800a-469e-b1c3-82c1bdebc003 button');\n",
              "      quickchartButtonEl.style.display =\n",
              "        google.colab.kernel.accessAllowed ? 'block' : 'none';\n",
              "    })();\n",
              "  </script>\n",
              "</div>\n",
              "    </div>\n",
              "  </div>\n"
            ]
          },
          "metadata": {},
          "execution_count": 2
        }
      ]
    },
    {
      "cell_type": "code",
      "source": [
        "credit_df.info()"
      ],
      "metadata": {
        "colab": {
          "base_uri": "https://localhost:8080/"
        },
        "id": "Bl-95zyDTv3W",
        "outputId": "bcffeeaa-5c1f-434f-bc8c-3e68c1f40bc1"
      },
      "execution_count": 3,
      "outputs": [
        {
          "output_type": "stream",
          "name": "stdout",
          "text": [
            "<class 'pandas.core.frame.DataFrame'>\n",
            "RangeIndex: 86893 entries, 0 to 86892\n",
            "Data columns (total 25 columns):\n",
            " #   Column                              Non-Null Count  Dtype         \n",
            "---  ------                              --------------  -----         \n",
            " 0   Company                             86893 non-null  object        \n",
            " 1   Company public response             19745 non-null  object        \n",
            " 2   Company response to consumer        86893 non-null  object        \n",
            " 3   Complaint Category                  86893 non-null  object        \n",
            " 4   Complaint ID                        86893 non-null  int64         \n",
            " 5   Consumer complaint narrative        17285 non-null  object        \n",
            " 6   Consumer consent provided?          29320 non-null  object        \n",
            " 7   Consumer consent provided? (group)  86893 non-null  object        \n",
            " 8   Consumer disputed?                  83121 non-null  object        \n",
            " 9   Date received                       86893 non-null  datetime64[ns]\n",
            " 10  Date sent to company2               86893 non-null  datetime64[ns]\n",
            " 11  Dimension                           86893 non-null  object        \n",
            " 12  Issue                               86893 non-null  object        \n",
            " 13  Product                             86893 non-null  object        \n",
            " 14  State                               86155 non-null  object        \n",
            " 15  Sub-issue                           0 non-null      float64       \n",
            " 16  Sub-product                         0 non-null      float64       \n",
            " 17  Submitted via                       86892 non-null  object        \n",
            " 18  Table Name                          86893 non-null  object        \n",
            " 19  Tags                                13097 non-null  object        \n",
            " 20  Timely response?                    86893 non-null  object        \n",
            " 21  ZIP code                            67806 non-null  float64       \n",
            " 22  Avg No of days                      86893 non-null  int64         \n",
            " 23  donut                               86893 non-null  int64         \n",
            " 24  Number of Records                   86893 non-null  int64         \n",
            "dtypes: datetime64[ns](2), float64(3), int64(4), object(16)\n",
            "memory usage: 16.6+ MB\n"
          ]
        }
      ]
    },
    {
      "cell_type": "code",
      "source": [
        "credit_df.isna().sum()"
      ],
      "metadata": {
        "colab": {
          "base_uri": "https://localhost:8080/"
        },
        "id": "hQN4xkqHUSVJ",
        "outputId": "0fe446d9-062b-467c-c549-9eb3f3d18f71"
      },
      "execution_count": 4,
      "outputs": [
        {
          "output_type": "execute_result",
          "data": {
            "text/plain": [
              "Company                                   0\n",
              "Company public response               67148\n",
              "Company response to consumer              0\n",
              "Complaint Category                        0\n",
              "Complaint ID                              0\n",
              "Consumer complaint narrative          69608\n",
              "Consumer consent provided?            57573\n",
              "Consumer consent provided? (group)        0\n",
              "Consumer disputed?                     3772\n",
              "Date received                             0\n",
              "Date sent to company2                     0\n",
              "Dimension                                 0\n",
              "Issue                                     0\n",
              "Product                                   0\n",
              "State                                   738\n",
              "Sub-issue                             86893\n",
              "Sub-product                           86893\n",
              "Submitted via                             1\n",
              "Table Name                                0\n",
              "Tags                                  73796\n",
              "Timely response?                          0\n",
              "ZIP code                              19087\n",
              "Avg No of days                            0\n",
              "donut                                     0\n",
              "Number of Records                         0\n",
              "dtype: int64"
            ]
          },
          "metadata": {},
          "execution_count": 4
        }
      ]
    },
    {
      "cell_type": "code",
      "source": [
        "credit_df['Company public response'].unique()"
      ],
      "metadata": {
        "colab": {
          "base_uri": "https://localhost:8080/"
        },
        "id": "Za_DOL7aUY01",
        "outputId": "8bbab25a-c473-4fec-dfae-5b0528d8095e"
      },
      "execution_count": 5,
      "outputs": [
        {
          "output_type": "execute_result",
          "data": {
            "text/plain": [
              "array([nan,\n",
              "       'Company has responded to the consumer and the CFPB and chooses not to provide a public response',\n",
              "       'Company believes it acted appropriately as authorized by contract or law',\n",
              "       'Company chooses not to provide a public response',\n",
              "       'Company believes the complaint is the result of a misunderstanding',\n",
              "       \"Company can't verify or dispute the facts in the complaint\",\n",
              "       'Company believes complaint is the result of an isolated error',\n",
              "       'Company disputes the facts presented in the complaint',\n",
              "       'Company believes complaint represents an opportunity for improvement to better serve consumers',\n",
              "       'Company believes complaint caused principally by actions of third party outside the control or direction of the company',\n",
              "       'Company believes complaint relates to a discontinued policy or procedure'],\n",
              "      dtype=object)"
            ]
          },
          "metadata": {},
          "execution_count": 5
        }
      ]
    },
    {
      "cell_type": "code",
      "source": [
        "credit_df.drop(['Sub-issue','Sub-product'],axis=1,inplace=True)"
      ],
      "metadata": {
        "id": "OXD-bN-2UmGb"
      },
      "execution_count": 6,
      "outputs": []
    },
    {
      "cell_type": "code",
      "source": [
        "credit_df.info()"
      ],
      "metadata": {
        "colab": {
          "base_uri": "https://localhost:8080/"
        },
        "id": "BTbcK80BVB14",
        "outputId": "dc979d33-a5f6-4319-8efe-ba159943180f"
      },
      "execution_count": 7,
      "outputs": [
        {
          "output_type": "stream",
          "name": "stdout",
          "text": [
            "<class 'pandas.core.frame.DataFrame'>\n",
            "RangeIndex: 86893 entries, 0 to 86892\n",
            "Data columns (total 23 columns):\n",
            " #   Column                              Non-Null Count  Dtype         \n",
            "---  ------                              --------------  -----         \n",
            " 0   Company                             86893 non-null  object        \n",
            " 1   Company public response             19745 non-null  object        \n",
            " 2   Company response to consumer        86893 non-null  object        \n",
            " 3   Complaint Category                  86893 non-null  object        \n",
            " 4   Complaint ID                        86893 non-null  int64         \n",
            " 5   Consumer complaint narrative        17285 non-null  object        \n",
            " 6   Consumer consent provided?          29320 non-null  object        \n",
            " 7   Consumer consent provided? (group)  86893 non-null  object        \n",
            " 8   Consumer disputed?                  83121 non-null  object        \n",
            " 9   Date received                       86893 non-null  datetime64[ns]\n",
            " 10  Date sent to company2               86893 non-null  datetime64[ns]\n",
            " 11  Dimension                           86893 non-null  object        \n",
            " 12  Issue                               86893 non-null  object        \n",
            " 13  Product                             86893 non-null  object        \n",
            " 14  State                               86155 non-null  object        \n",
            " 15  Submitted via                       86892 non-null  object        \n",
            " 16  Table Name                          86893 non-null  object        \n",
            " 17  Tags                                13097 non-null  object        \n",
            " 18  Timely response?                    86893 non-null  object        \n",
            " 19  ZIP code                            67806 non-null  float64       \n",
            " 20  Avg No of days                      86893 non-null  int64         \n",
            " 21  donut                               86893 non-null  int64         \n",
            " 22  Number of Records                   86893 non-null  int64         \n",
            "dtypes: datetime64[ns](2), float64(1), int64(4), object(16)\n",
            "memory usage: 15.2+ MB\n"
          ]
        }
      ]
    },
    {
      "cell_type": "code",
      "source": [
        "credit_df.shape"
      ],
      "metadata": {
        "id": "NMOZQTE-VDW8",
        "colab": {
          "base_uri": "https://localhost:8080/"
        },
        "outputId": "d9e5eb66-4832-417b-ff53-730575d42d0e"
      },
      "execution_count": 8,
      "outputs": [
        {
          "output_type": "execute_result",
          "data": {
            "text/plain": [
              "(86893, 23)"
            ]
          },
          "metadata": {},
          "execution_count": 8
        }
      ]
    },
    {
      "cell_type": "code",
      "source": [
        "credit_df.info()"
      ],
      "metadata": {
        "colab": {
          "base_uri": "https://localhost:8080/"
        },
        "id": "Jqhl9Mv_xKTG",
        "outputId": "21a6ee01-cd15-4af9-ce46-7ca4d6e5273d"
      },
      "execution_count": 9,
      "outputs": [
        {
          "output_type": "stream",
          "name": "stdout",
          "text": [
            "<class 'pandas.core.frame.DataFrame'>\n",
            "RangeIndex: 86893 entries, 0 to 86892\n",
            "Data columns (total 23 columns):\n",
            " #   Column                              Non-Null Count  Dtype         \n",
            "---  ------                              --------------  -----         \n",
            " 0   Company                             86893 non-null  object        \n",
            " 1   Company public response             19745 non-null  object        \n",
            " 2   Company response to consumer        86893 non-null  object        \n",
            " 3   Complaint Category                  86893 non-null  object        \n",
            " 4   Complaint ID                        86893 non-null  int64         \n",
            " 5   Consumer complaint narrative        17285 non-null  object        \n",
            " 6   Consumer consent provided?          29320 non-null  object        \n",
            " 7   Consumer consent provided? (group)  86893 non-null  object        \n",
            " 8   Consumer disputed?                  83121 non-null  object        \n",
            " 9   Date received                       86893 non-null  datetime64[ns]\n",
            " 10  Date sent to company2               86893 non-null  datetime64[ns]\n",
            " 11  Dimension                           86893 non-null  object        \n",
            " 12  Issue                               86893 non-null  object        \n",
            " 13  Product                             86893 non-null  object        \n",
            " 14  State                               86155 non-null  object        \n",
            " 15  Submitted via                       86892 non-null  object        \n",
            " 16  Table Name                          86893 non-null  object        \n",
            " 17  Tags                                13097 non-null  object        \n",
            " 18  Timely response?                    86893 non-null  object        \n",
            " 19  ZIP code                            67806 non-null  float64       \n",
            " 20  Avg No of days                      86893 non-null  int64         \n",
            " 21  donut                               86893 non-null  int64         \n",
            " 22  Number of Records                   86893 non-null  int64         \n",
            "dtypes: datetime64[ns](2), float64(1), int64(4), object(16)\n",
            "memory usage: 15.2+ MB\n"
          ]
        }
      ]
    },
    {
      "cell_type": "code",
      "source": [
        "credit_df.drop(['Company public response'],axis=1,inplace=True)\n",
        "\n",
        "credit_df.isna().sum()"
      ],
      "metadata": {
        "colab": {
          "base_uri": "https://localhost:8080/"
        },
        "id": "RMKUmmp9xQAZ",
        "outputId": "146ec125-0420-42c4-b7ab-e65b1c171e5d"
      },
      "execution_count": 11,
      "outputs": [
        {
          "output_type": "execute_result",
          "data": {
            "text/plain": [
              "Company                                   0\n",
              "Company response to consumer              0\n",
              "Complaint Category                        0\n",
              "Complaint ID                              0\n",
              "Consumer complaint narrative          69608\n",
              "Consumer consent provided?            57573\n",
              "Consumer consent provided? (group)        0\n",
              "Consumer disputed?                     3772\n",
              "Date received                             0\n",
              "Date sent to company2                     0\n",
              "Dimension                                 0\n",
              "Issue                                     0\n",
              "Product                                   0\n",
              "State                                   738\n",
              "Submitted via                             1\n",
              "Table Name                                0\n",
              "Tags                                  73796\n",
              "Timely response?                          0\n",
              "ZIP code                              19087\n",
              "Avg No of days                            0\n",
              "donut                                     0\n",
              "Number of Records                         0\n",
              "dtype: int64"
            ]
          },
          "metadata": {},
          "execution_count": 11
        }
      ]
    },
    {
      "cell_type": "code",
      "source": [
        "credit_df.drop(['Tags'],axis=1,inplace=True)\n",
        "\n",
        "credit_df.isna().sum()"
      ],
      "metadata": {
        "colab": {
          "base_uri": "https://localhost:8080/"
        },
        "id": "73vC8trsxhS4",
        "outputId": "634ea0f9-f804-47da-c146-335484a79b60"
      },
      "execution_count": 12,
      "outputs": [
        {
          "output_type": "execute_result",
          "data": {
            "text/plain": [
              "Company                                   0\n",
              "Company response to consumer              0\n",
              "Complaint Category                        0\n",
              "Complaint ID                              0\n",
              "Consumer complaint narrative          69608\n",
              "Consumer consent provided?            57573\n",
              "Consumer consent provided? (group)        0\n",
              "Consumer disputed?                     3772\n",
              "Date received                             0\n",
              "Date sent to company2                     0\n",
              "Dimension                                 0\n",
              "Issue                                     0\n",
              "Product                                   0\n",
              "State                                   738\n",
              "Submitted via                             1\n",
              "Table Name                                0\n",
              "Timely response?                          0\n",
              "ZIP code                              19087\n",
              "Avg No of days                            0\n",
              "donut                                     0\n",
              "Number of Records                         0\n",
              "dtype: int64"
            ]
          },
          "metadata": {},
          "execution_count": 12
        }
      ]
    },
    {
      "cell_type": "code",
      "source": [
        "credit_df.drop(['Consumer complaint narrative','Consumer consent provided?'],axis=1,inplace=True)\n",
        "\n",
        "credit_df.isna().sum()"
      ],
      "metadata": {
        "colab": {
          "base_uri": "https://localhost:8080/"
        },
        "id": "HM1IjdyExqnC",
        "outputId": "8ab96989-ccd8-44ef-e833-928d08cfb376"
      },
      "execution_count": 13,
      "outputs": [
        {
          "output_type": "execute_result",
          "data": {
            "text/plain": [
              "Company                                   0\n",
              "Company response to consumer              0\n",
              "Complaint Category                        0\n",
              "Complaint ID                              0\n",
              "Consumer consent provided? (group)        0\n",
              "Consumer disputed?                     3772\n",
              "Date received                             0\n",
              "Date sent to company2                     0\n",
              "Dimension                                 0\n",
              "Issue                                     0\n",
              "Product                                   0\n",
              "State                                   738\n",
              "Submitted via                             1\n",
              "Table Name                                0\n",
              "Timely response?                          0\n",
              "ZIP code                              19087\n",
              "Avg No of days                            0\n",
              "donut                                     0\n",
              "Number of Records                         0\n",
              "dtype: int64"
            ]
          },
          "metadata": {},
          "execution_count": 13
        }
      ]
    },
    {
      "cell_type": "code",
      "source": [
        "credit_df.fillna(method='ffill',inplace=True)"
      ],
      "metadata": {
        "id": "u0Ss4La9xqg5"
      },
      "execution_count": 14,
      "outputs": []
    },
    {
      "cell_type": "code",
      "source": [
        "credit_df.isna().sum()"
      ],
      "metadata": {
        "colab": {
          "base_uri": "https://localhost:8080/"
        },
        "id": "EU9GSJAiyBQb",
        "outputId": "4aa370fb-89fa-4d3e-ea63-4d9f51fe277c"
      },
      "execution_count": 15,
      "outputs": [
        {
          "output_type": "execute_result",
          "data": {
            "text/plain": [
              "Company                               0\n",
              "Company response to consumer          0\n",
              "Complaint Category                    0\n",
              "Complaint ID                          0\n",
              "Consumer consent provided? (group)    0\n",
              "Consumer disputed?                    0\n",
              "Date received                         0\n",
              "Date sent to company2                 0\n",
              "Dimension                             0\n",
              "Issue                                 0\n",
              "Product                               0\n",
              "State                                 0\n",
              "Submitted via                         0\n",
              "Table Name                            0\n",
              "Timely response?                      0\n",
              "ZIP code                              0\n",
              "Avg No of days                        0\n",
              "donut                                 0\n",
              "Number of Records                     0\n",
              "dtype: int64"
            ]
          },
          "metadata": {},
          "execution_count": 15
        }
      ]
    },
    {
      "cell_type": "code",
      "source": [
        "credit_df.shape"
      ],
      "metadata": {
        "colab": {
          "base_uri": "https://localhost:8080/"
        },
        "id": "nJtbDxZwyEe5",
        "outputId": "5f124311-df14-4c43-dd56-f73a510d1619"
      },
      "execution_count": 17,
      "outputs": [
        {
          "output_type": "execute_result",
          "data": {
            "text/plain": [
              "(86893, 19)"
            ]
          },
          "metadata": {},
          "execution_count": 17
        }
      ]
    },
    {
      "cell_type": "code",
      "source": [
        "credit_df.to_excel('CleanedCreditcard.xlsx')"
      ],
      "metadata": {
        "id": "pWL1OTqgyFfF"
      },
      "execution_count": 19,
      "outputs": []
    }
  ]
}